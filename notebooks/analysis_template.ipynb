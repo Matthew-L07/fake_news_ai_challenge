{
 "cells": [
  {
   "cell_type": "markdown",
   "id": "82c622ac",
   "metadata": {},
   "source": [
    "# 🧠 Fake News Challenge – Core Notebook\n",
    "\n",
    "## 1. Load & Inspect Dataset\n",
    "\n",
    "## 2. Preprocess Text\n",
    "\n",
    "## 3. Exploratory Analysis\n",
    "- Word frequencies\n",
    "- Article lengths\n",
    "- Named entities\n",
    "\n",
    "## 4. Visualization\n",
    "\n",
    "## 5. Prompt Engineering\n",
    "- Article selection\n",
    "- Prompt design\n",
    "- LLM response capture\n",
    "\n",
    "## 6. Reflection\n"
   ]
  }
 ],
 "metadata": {
  "language_info": {
   "name": "python"
  }
 },
 "nbformat": 4,
 "nbformat_minor": 5
}
