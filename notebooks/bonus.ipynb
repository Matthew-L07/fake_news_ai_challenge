{
  "nbformat": 4,
  "nbformat_minor": 0,
  "metadata": {
    "colab": {
      "provenance": []
    },
    "kernelspec": {
      "name": "python3",
      "display_name": "Python 3"
    },
    "language_info": {
      "name": "python"
    }
  },
  "cells": [
    {
      "cell_type": "code",
      "execution_count": 12,
      "metadata": {
        "colab": {
          "base_uri": "https://localhost:8080/"
        },
        "id": "uwPOifUZzKQp",
        "outputId": "ee748de2-e1fa-4cc1-92b2-199ed6ada29a"
      },
      "outputs": [
        {
          "output_type": "stream",
          "name": "stderr",
          "text": [
            "[nltk_data] Downloading package punkt to /root/nltk_data...\n",
            "[nltk_data]   Package punkt is already up-to-date!\n",
            "[nltk_data] Downloading package punkt_tab to /root/nltk_data...\n",
            "[nltk_data]   Package punkt_tab is already up-to-date!\n",
            "[nltk_data] Downloading package stopwords to /root/nltk_data...\n",
            "[nltk_data]   Package stopwords is already up-to-date!\n"
          ]
        },
        {
          "output_type": "stream",
          "name": "stdout",
          "text": [
            "📄 Article Stats\n",
            "Title: Trump Is So Obsessed He Even Has Obama’s Name Coded Into His Website (IMAGES)\n",
            "Date: December 29, 2017 | Subject: News\n",
            "Word Count: 444\n",
            "Character Count: 2774\n",
            "\n",
            "Named Entities:\n",
            "  DATE: 14\n",
            "  PERSON: 16\n",
            "  ORG: 17\n",
            "  ORDINAL: 1\n",
            "  CARDINAL: 5\n",
            "  GPE: 5\n",
            "\n",
            "Top 10 Most Frequent Words:\n",
            "  trump: 10\n",
            "  golf: 9\n",
            "  december: 8\n",
            "  obama: 6\n",
            "  christopher: 5\n",
            "  ingraham: 5\n",
            "  code: 5\n",
            "  https: 4\n",
            "  coding: 4\n",
            "  day: 3\n",
            "\n",
            "Determine whether these news articles are real or fake based off of the title and text. Do not look any information up, decide purely based on the content of the articles. Analyze the article structure, tone, word choice, professionalism, topic, and any other features that would differ between fake and real news. Justify your answer, explaining which features informed your decision.\n",
            "\n",
            "Title: Trump Is So Obsessed He Even Has Obama’s Name Coded Into His Website (IMAGES)\n",
            "Text: On Christmas day, Donald Trump announced that he would  be back to work  the following day, but he is golfing for the fourth day in a row. The former reality show star blasted former President Barack Obama for playing golf and now Trump is on track to outpace the number of golf games his predecessor played.Updated my tracker of Trump s appearances at Trump properties.71 rounds of golf including today s. At this pace, he ll pass Obama s first-term total by July 24 next year. https://t.co/Fg7VacxRtJ pic.twitter.com/5gEMcjQTbH  Philip Bump (@pbump) December 29, 2017 That makes what a Washington Post reporter discovered on Trump s website really weird, but everything about this administration is bizarre AF. The coding contained a reference to Obama and golf:  Unlike Obama, we are working to fix the problem   and not on the golf course.  However, the coding wasn t done correctly.The website of Donald Trump, who has spent several days in a row at the golf course, is coded to serve up the following message in the event of an internal server error: https://t.co/zrWpyMXRcz pic.twitter.com/wiQSQNNzw0  Christopher Ingraham (@_cingraham) December 28, 2017That snippet of code appears to be on all https://t.co/dkhw0AlHB4 pages, which the footer says is paid for by the RNC? pic.twitter.com/oaZDT126B3  Christopher Ingraham (@_cingraham) December 28, 2017It s also all over https://t.co/ayBlGmk65Z. As others have noted in this thread, this is weird code and it s not clear it would ever actually display, but who knows.  Christopher Ingraham (@_cingraham) December 28, 2017After the coding was called out, the reference to Obama was deleted.UPDATE: The golf error message has been removed from the Trump and GOP websites. They also fixed the javascript  =  vs  ==  problem. Still not clear when these messages would actually display, since the actual 404 (and presumably 500) page displays a different message pic.twitter.com/Z7dmyQ5smy  Christopher Ingraham (@_cingraham) December 29, 2017That suggests someone at either RNC or the Trump admin is sensitive enough to Trump s golf problem to make this issue go away quickly once people noticed. You have no idea how much I d love to see the email exchange that led us here.  Christopher Ingraham (@_cingraham) December 29, 2017 The code was f-cked up.The best part about this is that they are using the  =  (assignment) operator which means that bit of code will never get run. If you look a few lines up  errorCode  will always be  404          (@tw1trsux) December 28, 2017trump s coders can t code. Nobody is surprised.  Tim Peterson (@timrpeterson) December 28, 2017Donald Trump is obsessed with Obama that his name was even in the coding of his website while he played golf again.Photo by Joe Raedle/Getty Images.\n",
            "\n"
          ]
        }
      ],
      "source": [
        "from collections import Counter\n",
        "import spacy\n",
        "import nltk\n",
        "from nltk.corpus import stopwords\n",
        "from nltk.tokenize import word_tokenize\n",
        "import string\n",
        "\n",
        "# Setup\n",
        "nltk.download('punkt')\n",
        "nltk.download('punkt_tab')\n",
        "nltk.download('stopwords')\n",
        "stop_words = set(stopwords.words('english'))\n",
        "punctuation = set(string.punctuation)\n",
        "\n",
        "nlp = spacy.load(\"en_core_web_sm\", disable=[\"parser\", \"tagger\", \"lemmatizer\"])\n",
        "\n",
        "LLMprompt = \"Determine whether these news articles are real or fake based off of the title and text. Do not look any information up, decide purely based on the content of the articles. Analyze the article structure, tone, word choice, professionalism, topic, and any other features that would differ between fake and real news. Justify your answer, explaining which features informed your decision.\"\n",
        "\n",
        "def analyze_article(article):\n",
        "    \"\"\"\n",
        "    Takes a dict with keys: 'title', 'text', 'subject', 'date'\n",
        "    Outputs article stats and a complete LLM prompt.\n",
        "    \"\"\"\n",
        "    text = article['text']\n",
        "    doc = nlp(text)\n",
        "\n",
        "    # Get stats\n",
        "    word_count = len(text.split())\n",
        "    char_count = len(text)\n",
        "    entities = [ent.label_ for ent in doc.ents]\n",
        "    entity_counts = Counter(entities)\n",
        "\n",
        "    # Get frequent words\n",
        "    tokens = word_tokenize(text.lower())\n",
        "    filtered = [w for w in tokens if w.isalpha() and w not in stop_words]\n",
        "    word_freq = Counter(filtered).most_common(10)\n",
        "\n",
        "    # Print stats\n",
        "    print(\"📄 Article Stats\")\n",
        "    print(f\"Title: {article['title']}\")\n",
        "    print(f\"Date: {article['date']} | Subject: {article['subject']}\")\n",
        "    print(f\"Word Count: {word_count}\")\n",
        "    print(f\"Character Count: {char_count}\")\n",
        "\n",
        "    print(\"\\nNamed Entities:\")\n",
        "    for k, v in entity_counts.items():\n",
        "        print(f\"  {k}: {v}\")\n",
        "\n",
        "    print(\"\\nTop 10 Most Frequent Words:\")\n",
        "    for word, freq in word_freq:\n",
        "        print(f\"  {word}: {freq}\")\n",
        "\n",
        "\n",
        "    print()\n",
        "    # Create prompt to feed to LLM\n",
        "    llm_prompt = f\"\"\"{LLMprompt}\n",
        "\n",
        "Title: {article['title']}\n",
        "Text: {article['text']}\n",
        "\"\"\"\n",
        "\n",
        "\n",
        "    print(llm_prompt)\n",
        "\n",
        "    # ==================== API call to ChatGPT to generate response (requires valid API key) ====================\n",
        "\n",
        "    # import openai\n",
        "\n",
        "    # openai.api_key = \"ENTER_API_KEY\"\n",
        "\n",
        "    # response = openai.ChatCompletion.create(\n",
        "    #     model=\"gpt-4\",\n",
        "    #     messages=[\n",
        "    #         {\"role\": \"user\", \"content\": llm_prompt}\n",
        "    #     ]\n",
        "    # )\n",
        "\n",
        "    # print(\"\\n📝 LLM Response:\\n\")\n",
        "    # print(response['choices'][0]['message']['content'])\n",
        "\n",
        "\n",
        "example_article = { \"title\": \"Trump Is So Obsessed He Even Has Obama’s Name Coded Into His Website (IMAGES)\",\n",
        "                   \"text\": \"On Christmas day, Donald Trump announced that he would  be back to work  the following day, but he is golfing for the fourth day in a row. The former reality show star blasted former President Barack Obama for playing golf and now Trump is on track to outpace the number of golf games his predecessor played.Updated my tracker of Trump s appearances at Trump properties.71 rounds of golf including today s. At this pace, he ll pass Obama s first-term total by July 24 next year. https://t.co/Fg7VacxRtJ pic.twitter.com/5gEMcjQTbH  Philip Bump (@pbump) December 29, 2017 That makes what a Washington Post reporter discovered on Trump s website really weird, but everything about this administration is bizarre AF. The coding contained a reference to Obama and golf:  Unlike Obama, we are working to fix the problem   and not on the golf course.  However, the coding wasn t done correctly.The website of Donald Trump, who has spent several days in a row at the golf course, is coded to serve up the following message in the event of an internal server error: https://t.co/zrWpyMXRcz pic.twitter.com/wiQSQNNzw0  Christopher Ingraham (@_cingraham) December 28, 2017That snippet of code appears to be on all https://t.co/dkhw0AlHB4 pages, which the footer says is paid for by the RNC? pic.twitter.com/oaZDT126B3  Christopher Ingraham (@_cingraham) December 28, 2017It s also all over https://t.co/ayBlGmk65Z. As others have noted in this thread, this is weird code and it s not clear it would ever actually display, but who knows.  Christopher Ingraham (@_cingraham) December 28, 2017After the coding was called out, the reference to Obama was deleted.UPDATE: The golf error message has been removed from the Trump and GOP websites. They also fixed the javascript  =  vs  ==  problem. Still not clear when these messages would actually display, since the actual 404 (and presumably 500) page displays a different message pic.twitter.com/Z7dmyQ5smy  Christopher Ingraham (@_cingraham) December 29, 2017That suggests someone at either RNC or the Trump admin is sensitive enough to Trump s golf problem to make this issue go away quickly once people noticed. You have no idea how much I d love to see the email exchange that led us here.  Christopher Ingraham (@_cingraham) December 29, 2017 The code was f-cked up.The best part about this is that they are using the  =  (assignment) operator which means that bit of code will never get run. If you look a few lines up  errorCode  will always be  404          (@tw1trsux) December 28, 2017trump s coders can t code. Nobody is surprised.  Tim Peterson (@timrpeterson) December 28, 2017Donald Trump is obsessed with Obama that his name was even in the coding of his website while he played golf again.Photo by Joe Raedle/Getty Images.\",\n",
        "                   \"subject\": \"News\",\n",
        "                   \"date\": \"December 29, 2017\"}\n",
        "\n",
        "analyze_article(example_article)\n"
      ]
    },
    {
      "cell_type": "code",
      "source": [
        "\n"
      ],
      "metadata": {
        "id": "t-HjROh2zawK"
      },
      "execution_count": null,
      "outputs": []
    }
  ]
}